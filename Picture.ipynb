{
 "cells": [
  {
   "cell_type": "code",
   "execution_count": 4,
   "metadata": {
    "collapsed": false
   },
   "outputs": [],
   "source": [
    "import numpy as np\n",
    "import matplotlib.pyplot as plt"
   ]
  },
  {
   "cell_type": "code",
   "execution_count": 5,
   "metadata": {
    "collapsed": false
   },
   "outputs": [],
   "source": [
    "dt = [('t', float), ('freq', float)]\n",
    "data_20= np.loadtxt('C:\\\\Users\\\\Sergey.Kolotev\\\\Desktop\\\\frequ20.txt', dtype=dt)"
   ]
  },
  {
   "cell_type": "code",
   "execution_count": 8,
   "metadata": {
    "collapsed": true
   },
   "outputs": [],
   "source": [
    "data_50= np.loadtxt('C:\\\\Users\\\\Sergey.Kolotev\\\\Desktop\\\\frequ50.txt', dtype=dt)\n",
    "data_100= np.loadtxt('C:\\\\Users\\\\Sergey.Kolotev\\\\Desktop\\\\frequ100.txt', dtype=dt)"
   ]
  },
  {
   "cell_type": "code",
   "execution_count": 10,
   "metadata": {
    "collapsed": false
   },
   "outputs": [
    {
     "name": "stdout",
     "output_type": "stream",
     "text": [
      "[ 2.2       2.2       2.2      ...,  2.999999  2.999999  2.999999]\n"
     ]
    }
   ],
   "source": [
    "data_20 = np.array(data_20)\n",
    "data_50 = np.array(data_50)\n",
    "data_100 = np.array(data_100)\n"
   ]
  },
  {
   "cell_type": "code",
   "execution_count": 18,
   "metadata": {
    "collapsed": false
   },
   "outputs": [],
   "source": [
    "plt.plot(data_20['t'],data_20['freq'], 'o')\n",
    "plt.plot(data_20['t']+0.015,data_50['freq'], '^')\n",
    "plt.plot(data_20['t']+0.03,data_100['freq'], 's')\n",
    "plt.show()"
   ]
  },
  {
   "cell_type": "code",
   "execution_count": 17,
   "metadata": {
    "collapsed": true
   },
   "outputs": [],
   "source": []
  },
  {
   "cell_type": "code",
   "execution_count": null,
   "metadata": {
    "collapsed": true
   },
   "outputs": [],
   "source": []
  }
 ],
 "metadata": {
  "anaconda-cloud": {},
  "kernelspec": {
   "display_name": "Python [Root]",
   "language": "python",
   "name": "Python [Root]"
  },
  "language_info": {
   "codemirror_mode": {
    "name": "ipython",
    "version": 3
   },
   "file_extension": ".py",
   "mimetype": "text/x-python",
   "name": "python",
   "nbconvert_exporter": "python",
   "pygments_lexer": "ipython3",
   "version": "3.5.2"
  }
 },
 "nbformat": 4,
 "nbformat_minor": 0
}
