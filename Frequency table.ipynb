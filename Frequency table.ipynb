{
 "cells": [
  {
   "cell_type": "code",
   "execution_count": 2,
   "metadata": {
    "collapsed": true
   },
   "outputs": [],
   "source": [
    "import numpy as np"
   ]
  },
  {
   "cell_type": "code",
   "execution_count": 3,
   "metadata": {
    "collapsed": true
   },
   "outputs": [],
   "source": [
    "dt = [('t', float), ('freq', float)]"
   ]
  },
  {
   "cell_type": "code",
   "execution_count": 32,
   "metadata": {
    "collapsed": false
   },
   "outputs": [],
   "source": [
    "data_20= np.loadtxt('C:\\\\Users\\\\Sergey.Kolotev\\\\Desktop\\\\new_picture\\\\freq20-1875.txt', dtype=dt)\n",
    "data_50= np.loadtxt('C:\\\\Users\\\\Sergey.Kolotev\\\\Desktop\\\\new_picture\\\\freq50-1875.txt', dtype=dt)\n",
    "data_100= np.loadtxt('C:\\\\Users\\\\Sergey.Kolotev\\\\Desktop\\\\new_picture\\\\freq100-1875.txt', dtype=dt)"
   ]
  },
  {
   "cell_type": "code",
   "execution_count": 33,
   "metadata": {
    "collapsed": false
   },
   "outputs": [],
   "source": [
    "data_20 = np.array(data_20)\n",
    "data_50 = np.array(data_50)\n",
    "data_100 = np.array(data_100)"
   ]
  },
  {
   "cell_type": "code",
   "execution_count": 34,
   "metadata": {
    "collapsed": false
   },
   "outputs": [
    {
     "name": "stdout",
     "output_type": "stream",
     "text": [
      "1.875 0.27881359 0.366427487157 20\n",
      "1.875 0.3155196824 0.0336206405867 50\n",
      "1.875 0.315585919 0.0168646023652 100\n"
     ]
    }
   ],
   "source": [
    "print(data_20['t'].mean(), data_20['freq'].mean(), np.sqrt(sum((data_20['freq']-data_20['freq'].mean())**2)/(len(data_20)-1)), 20)\n",
    "print(data_50['t'].mean(), data_50['freq'].mean(), np.sqrt(sum((data_50['freq']-data_50['freq'].mean())**2)/(len(data_50)-1)), 50)\n",
    "print(data_100['t'].mean(), data_100['freq'].mean(), np.sqrt(sum((data_100['freq']-data_100['freq'].mean())**2)/(len(data_100)-1)), 100)"
   ]
  },
  {
   "cell_type": "code",
   "execution_count": null,
   "metadata": {
    "collapsed": true
   },
   "outputs": [],
   "source": []
  },
  {
   "cell_type": "code",
   "execution_count": null,
   "metadata": {
    "collapsed": true
   },
   "outputs": [],
   "source": []
  }
 ],
 "metadata": {
  "anaconda-cloud": {},
  "kernelspec": {
   "display_name": "Python [Root]",
   "language": "python",
   "name": "Python [Root]"
  },
  "language_info": {
   "codemirror_mode": {
    "name": "ipython",
    "version": 3
   },
   "file_extension": ".py",
   "mimetype": "text/x-python",
   "name": "python",
   "nbconvert_exporter": "python",
   "pygments_lexer": "ipython3",
   "version": "3.5.2"
  }
 },
 "nbformat": 4,
 "nbformat_minor": 0
}
